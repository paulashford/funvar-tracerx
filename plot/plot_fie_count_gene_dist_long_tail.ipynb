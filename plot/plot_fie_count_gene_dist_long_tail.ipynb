{
 "cells": [
  {
   "cell_type": "markdown",
   "metadata": {},
   "source": [
    "# plot_fie_count_gene_dist_long_tail.ipynb\n",
    "## Distribution of FIE counts per gene (\"long-tail\")\n",
    "### Nov 2023 amended paths for submission \n",
    "\n",
    "Nov 23 - use main yj07f tables eg data/diversity_yj07f_full_table_gene.csv\n",
    "\n",
    "A script to generate fie count table is here:\n",
    "\n",
    "`script/diversity_analysis/create_gene_fie_count_table.R`"
   ]
  },
  {
   "cell_type": "code",
   "execution_count": 1,
   "metadata": {},
   "outputs": [],
   "source": [
    "import os\n",
    "import sys\n",
    "import math\n",
    "import altair as alt\n",
    "import pandas as pd\n",
    "\n",
    "# pip3 install altair_saver\n",
    "# https://github.com/altair-viz/altair_saver/\n",
    "# from altair_saver import save\n",
    "# issues with altair_saver on mac os - run vl-convert instead\n",
    "# pip3 install vl-convert-python\n",
    "# see: https://altair-viz.github.io/user_guide/saving_charts.html#png-svg-and-pdf-format\n",
    "# https://github.com/altair-viz/altair/issues/2239\n",
    "\n",
    "pd.set_option('display.max_rows', 150)\n",
    "pd.set_option('display.max_columns', 100)"
   ]
  },
  {
   "cell_type": "markdown",
   "metadata": {},
   "source": [
    "### Load plot data "
   ]
  },
  {
   "cell_type": "code",
   "execution_count": 2,
   "metadata": {},
   "outputs": [],
   "source": [
    "# see script/diversity_analysis/create_gene_fie_count_table.R\n",
    "# fie_count_file = '../script/diversity_analysis/working/fies_by_gene_tx_luad_lusc_pre_post.tsv'\n",
    "fie_count_file = '../script/diversity_analysis/working/fies_by_gene_tx_luad_lusc_pre_post_unk.tsv'\n",
    "\n",
    "# Count FIEs by gene and cancer type and TxP (GENE)\n",
    "dt_fies_by_gene = pd.read_table( fie_count_file, keep_default_na = True, dtype = 'unicode' )"
   ]
  },
  {
   "cell_type": "code",
   "execution_count": 3,
   "metadata": {},
   "outputs": [],
   "source": [
    "# dt_fies_by_gene.head(5)\n",
    "# dt_fies_by_gene.info()\n"
   ]
  },
  {
   "cell_type": "markdown",
   "metadata": {},
   "source": [
    "### tidy and sort"
   ]
  },
  {
   "cell_type": "code",
   "execution_count": 4,
   "metadata": {},
   "outputs": [],
   "source": [
    "# convert num_muts and num_rows to numeric\n",
    "dt_fies_by_gene['tot_muts'] = dt_fies_by_gene['tot_muts'].astype(int)\n",
    "\n",
    "# dt_fies_by_gene.info()\n",
    "# sort by FIEs and gene\n",
    "dt_fies_by_gene = dt_fies_by_gene.sort_values(by=[ 'tot_muts', 'SPECIES'])\n"
   ]
  },
  {
   "cell_type": "markdown",
   "metadata": {},
   "source": [
    "### Plot distribution by gene"
   ]
  },
  {
   "cell_type": "code",
   "execution_count": 5,
   "metadata": {},
   "outputs": [],
   "source": [
    "# GENE - all timings\n",
    "dt_plot = dt_fies_by_gene\n",
    "# fig_name = 'fies_by_gene_all_pre_post_luad_lusc.pdf'\n",
    "# altair_saver not working - using vl-convert which is only PNG or SVG\n",
    "fig_name = 'fies_by_gene_all_pre_post_luad_lusc.png'"
   ]
  },
  {
   "cell_type": "code",
   "execution_count": 6,
   "metadata": {},
   "outputs": [
    {
     "data": {
      "text/html": [
       "\n",
       "<style>\n",
       "  #altair-viz-3057a1b1f6714c708a903c0903f91b44.vega-embed {\n",
       "    width: 100%;\n",
       "    display: flex;\n",
       "  }\n",
       "\n",
       "  #altair-viz-3057a1b1f6714c708a903c0903f91b44.vega-embed details,\n",
       "  #altair-viz-3057a1b1f6714c708a903c0903f91b44.vega-embed details summary {\n",
       "    position: relative;\n",
       "  }\n",
       "</style>\n",
       "<div id=\"altair-viz-3057a1b1f6714c708a903c0903f91b44\"></div>\n",
       "<script type=\"text/javascript\">\n",
       "  var VEGA_DEBUG = (typeof VEGA_DEBUG == \"undefined\") ? {} : VEGA_DEBUG;\n",
       "  (function(spec, embedOpt){\n",
       "    let outputDiv = document.currentScript.previousElementSibling;\n",
       "    if (outputDiv.id !== \"altair-viz-3057a1b1f6714c708a903c0903f91b44\") {\n",
       "      outputDiv = document.getElementById(\"altair-viz-3057a1b1f6714c708a903c0903f91b44\");\n",
       "    }\n",
       "    const paths = {\n",
       "      \"vega\": \"https://cdn.jsdelivr.net/npm/vega@5?noext\",\n",
       "      \"vega-lib\": \"https://cdn.jsdelivr.net/npm/vega-lib?noext\",\n",
       "      \"vega-lite\": \"https://cdn.jsdelivr.net/npm/vega-lite@5.15.1?noext\",\n",
       "      \"vega-embed\": \"https://cdn.jsdelivr.net/npm/vega-embed@6?noext\",\n",
       "    };\n",
       "\n",
       "    function maybeLoadScript(lib, version) {\n",
       "      var key = `${lib.replace(\"-\", \"\")}_version`;\n",
       "      return (VEGA_DEBUG[key] == version) ?\n",
       "        Promise.resolve(paths[lib]) :\n",
       "        new Promise(function(resolve, reject) {\n",
       "          var s = document.createElement('script');\n",
       "          document.getElementsByTagName(\"head\")[0].appendChild(s);\n",
       "          s.async = true;\n",
       "          s.onload = () => {\n",
       "            VEGA_DEBUG[key] = version;\n",
       "            return resolve(paths[lib]);\n",
       "          };\n",
       "          s.onerror = () => reject(`Error loading script: ${paths[lib]}`);\n",
       "          s.src = paths[lib];\n",
       "        });\n",
       "    }\n",
       "\n",
       "    function showError(err) {\n",
       "      outputDiv.innerHTML = `<div class=\"error\" style=\"color:red;\">${err}</div>`;\n",
       "      throw err;\n",
       "    }\n",
       "\n",
       "    function displayChart(vegaEmbed) {\n",
       "      vegaEmbed(outputDiv, spec, embedOpt)\n",
       "        .catch(err => showError(`Javascript Error: ${err.message}<br>This usually means there's a typo in your chart specification. See the javascript console for the full traceback.`));\n",
       "    }\n",
       "\n",
       "    if(typeof define === \"function\" && define.amd) {\n",
       "      requirejs.config({paths});\n",
       "      require([\"vega-embed\"], displayChart, err => showError(`Error loading script: ${err.message}`));\n",
       "    } else {\n",
       "      maybeLoadScript(\"vega\", \"5\")\n",
       "        .then(() => maybeLoadScript(\"vega-lite\", \"5.15.1\"))\n",
       "        .then(() => maybeLoadScript(\"vega-embed\", \"6\"))\n",
       "        .catch(showError)\n",
       "        .then(() => displayChart(vegaEmbed));\n",
       "    }\n",
       "  })({\"config\": {\"view\": {\"continuousWidth\": 300, \"continuousHeight\": 300}, \"axis\": {\"labelFontSize\": 20, \"titleFontSize\": 20}}, \"data\": {\"name\": \"data-c009b57526f05ffa9e8cb3441418ecd3\"}, \"mark\": {\"type\": \"bar\"}, \"encoding\": {\"color\": {\"field\": \"OVERALL_TIMING\", \"scale\": {\"domain\": [\"early\", \"late\", \"unknown\"], \"range\": [\"#7FC45EFF\", \"#912A58FF\", \"grey\"]}, \"type\": \"nominal\"}, \"order\": {\"field\": \"OVERALL_TIMING\", \"sort\": \"ascending\", \"type\": \"nominal\"}, \"x\": {\"axis\": {\"title\": \"Gene\"}, \"field\": \"SPECIES\", \"sort\": {\"field\": \"tot_muts\", \"order\": \"descending\"}, \"type\": \"nominal\"}, \"y\": {\"axis\": {\"title\": \"Num. FIEs\"}, \"field\": \"tot_muts\", \"type\": \"quantitative\"}}, \"height\": 450, \"$schema\": \"https://vega.github.io/schema/vega-lite/v5.15.1.json\", \"datasets\": {\"data-c009b57526f05ffa9e8cb3441418ecd3\": [{\"SPECIES_TYPE\": \"FIEs\", \"DATA_SOURCE\": \"Tx\", \"TXP\": \"N\", \"CANCER_TYPE\": \"LUAD-LUSC\", \"OVERALL_TIMING\": \"early\", \"SPECIES\": \"ACADM\", \"tot_muts\": 1}, {\"SPECIES_TYPE\": \"FIEs\", \"DATA_SOURCE\": \"Tx\", \"TXP\": \"N\", \"CANCER_TYPE\": \"LUAD-LUSC\", \"OVERALL_TIMING\": \"unknown\", \"SPECIES\": \"ACVR1B\", \"tot_muts\": 1}, {\"SPECIES_TYPE\": \"FIEs\", \"DATA_SOURCE\": \"Tx\", \"TXP\": \"N\", \"CANCER_TYPE\": \"LUAD-LUSC\", \"OVERALL_TIMING\": \"early\", \"SPECIES\": \"AGXT\", \"tot_muts\": 1}, {\"SPECIES_TYPE\": \"FIEs\", \"DATA_SOURCE\": \"Tx\", \"TXP\": \"N\", \"CANCER_TYPE\": \"LUAD-LUSC\", \"OVERALL_TIMING\": \"early\", \"SPECIES\": \"AKT1\", \"tot_muts\": 1}, {\"SPECIES_TYPE\": \"FIEs\", \"DATA_SOURCE\": \"Tx\", \"TXP\": \"N\", \"CANCER_TYPE\": \"LUAD-LUSC\", \"OVERALL_TIMING\": \"unknown\", \"SPECIES\": \"ANAPC10\", \"tot_muts\": 1}, {\"SPECIES_TYPE\": \"FIEs\", \"DATA_SOURCE\": \"Tx\", \"TXP\": \"N\", \"CANCER_TYPE\": \"LUAD-LUSC\", \"OVERALL_TIMING\": \"unknown\", \"SPECIES\": \"APBB1IP\", \"tot_muts\": 1}, {\"SPECIES_TYPE\": \"FIEs\", \"DATA_SOURCE\": \"Tx\", \"TXP\": \"N\", \"CANCER_TYPE\": \"LUAD-LUSC\", \"OVERALL_TIMING\": \"unknown\", \"SPECIES\": \"CACNB2\", \"tot_muts\": 1}, {\"SPECIES_TYPE\": \"FIEs\", \"DATA_SOURCE\": \"Tx\", \"TXP\": \"N\", \"CANCER_TYPE\": \"LUAD-LUSC\", \"OVERALL_TIMING\": \"early\", \"SPECIES\": \"CASQ2\", \"tot_muts\": 1}, {\"SPECIES_TYPE\": \"FIEs\", \"DATA_SOURCE\": \"Tx\", \"TXP\": \"N\", \"CANCER_TYPE\": \"LUAD-LUSC\", \"OVERALL_TIMING\": \"late\", \"SPECIES\": \"CDK8\", \"tot_muts\": 1}, {\"SPECIES_TYPE\": \"FIEs\", \"DATA_SOURCE\": \"Tx\", \"TXP\": \"N\", \"CANCER_TYPE\": \"LUAD-LUSC\", \"OVERALL_TIMING\": \"late\", \"SPECIES\": \"CDKN2A\", \"tot_muts\": 1}, {\"SPECIES_TYPE\": \"FIEs\", \"DATA_SOURCE\": \"Tx\", \"TXP\": \"N\", \"CANCER_TYPE\": \"LUAD-LUSC\", \"OVERALL_TIMING\": \"unknown\", \"SPECIES\": \"CHD2\", \"tot_muts\": 1}, {\"SPECIES_TYPE\": \"FIEs\", \"DATA_SOURCE\": \"Tx\", \"TXP\": \"N\", \"CANCER_TYPE\": \"LUAD-LUSC\", \"OVERALL_TIMING\": \"early\", \"SPECIES\": \"CHD7\", \"tot_muts\": 1}, {\"SPECIES_TYPE\": \"FIEs\", \"DATA_SOURCE\": \"Tx\", \"TXP\": \"N\", \"CANCER_TYPE\": \"LUAD-LUSC\", \"OVERALL_TIMING\": \"late\", \"SPECIES\": \"COTL1\", \"tot_muts\": 1}, {\"SPECIES_TYPE\": \"FIEs\", \"DATA_SOURCE\": \"Tx\", \"TXP\": \"N\", \"CANCER_TYPE\": \"LUAD-LUSC\", \"OVERALL_TIMING\": \"late\", \"SPECIES\": \"CPSF3\", \"tot_muts\": 1}, {\"SPECIES_TYPE\": \"FIEs\", \"DATA_SOURCE\": \"Tx\", \"TXP\": \"N\", \"CANCER_TYPE\": \"LUAD-LUSC\", \"OVERALL_TIMING\": \"unknown\", \"SPECIES\": \"CRISPLD2\", \"tot_muts\": 1}, {\"SPECIES_TYPE\": \"FIEs\", \"DATA_SOURCE\": \"Tx\", \"TXP\": \"N\", \"CANCER_TYPE\": \"LUAD-LUSC\", \"OVERALL_TIMING\": \"unknown\", \"SPECIES\": \"CRYL1\", \"tot_muts\": 1}, {\"SPECIES_TYPE\": \"FIEs\", \"DATA_SOURCE\": \"Tx\", \"TXP\": \"N\", \"CANCER_TYPE\": \"LUAD-LUSC\", \"OVERALL_TIMING\": \"late\", \"SPECIES\": \"CSNK2A2\", \"tot_muts\": 1}, {\"SPECIES_TYPE\": \"FIEs\", \"DATA_SOURCE\": \"Tx\", \"TXP\": \"N\", \"CANCER_TYPE\": \"LUAD-LUSC\", \"OVERALL_TIMING\": \"late\", \"SPECIES\": \"CUL4A\", \"tot_muts\": 1}, {\"SPECIES_TYPE\": \"FIEs\", \"DATA_SOURCE\": \"Tx\", \"TXP\": \"N\", \"CANCER_TYPE\": \"LUAD-LUSC\", \"OVERALL_TIMING\": \"late\", \"SPECIES\": \"DICER1\", \"tot_muts\": 1}, {\"SPECIES_TYPE\": \"FIEs\", \"DATA_SOURCE\": \"Tx\", \"TXP\": \"N\", \"CANCER_TYPE\": \"LUAD-LUSC\", \"OVERALL_TIMING\": \"early\", \"SPECIES\": \"DLD\", \"tot_muts\": 1}, {\"SPECIES_TYPE\": \"FIEs\", \"DATA_SOURCE\": \"Tx\", \"TXP\": \"N\", \"CANCER_TYPE\": \"LUAD-LUSC\", \"OVERALL_TIMING\": \"late\", \"SPECIES\": \"DNAJC6\", \"tot_muts\": 1}, {\"SPECIES_TYPE\": \"FIEs\", \"DATA_SOURCE\": \"Tx\", \"TXP\": \"N\", \"CANCER_TYPE\": \"LUAD-LUSC\", \"OVERALL_TIMING\": \"late\", \"SPECIES\": \"DPYD\", \"tot_muts\": 1}, {\"SPECIES_TYPE\": \"FIEs\", \"DATA_SOURCE\": \"Tx\", \"TXP\": \"N\", \"CANCER_TYPE\": \"LUAD-LUSC\", \"OVERALL_TIMING\": \"unknown\", \"SPECIES\": \"E2F1\", \"tot_muts\": 1}, {\"SPECIES_TYPE\": \"FIEs\", \"DATA_SOURCE\": \"Tx\", \"TXP\": \"N\", \"CANCER_TYPE\": \"LUAD-LUSC\", \"OVERALL_TIMING\": \"early\", \"SPECIES\": \"EBF3\", \"tot_muts\": 1}, {\"SPECIES_TYPE\": \"FIEs\", \"DATA_SOURCE\": \"Tx\", \"TXP\": \"N\", \"CANCER_TYPE\": \"LUAD-LUSC\", \"OVERALL_TIMING\": \"unknown\", \"SPECIES\": \"EIF2S1\", \"tot_muts\": 1}, {\"SPECIES_TYPE\": \"FIEs\", \"DATA_SOURCE\": \"Tx\", \"TXP\": \"N\", \"CANCER_TYPE\": \"LUAD-LUSC\", \"OVERALL_TIMING\": \"unknown\", \"SPECIES\": \"EIF4G3\", \"tot_muts\": 1}, {\"SPECIES_TYPE\": \"FIEs\", \"DATA_SOURCE\": \"Tx\", \"TXP\": \"N\", \"CANCER_TYPE\": \"LUAD-LUSC\", \"OVERALL_TIMING\": \"late\", \"SPECIES\": \"ERBB2\", \"tot_muts\": 1}, {\"SPECIES_TYPE\": \"FIEs\", \"DATA_SOURCE\": \"Tx\", \"TXP\": \"N\", \"CANCER_TYPE\": \"LUAD-LUSC\", \"OVERALL_TIMING\": \"late\", \"SPECIES\": \"ERBB4\", \"tot_muts\": 1}, {\"SPECIES_TYPE\": \"FIEs\", \"DATA_SOURCE\": \"Tx\", \"TXP\": \"N\", \"CANCER_TYPE\": \"LUAD-LUSC\", \"OVERALL_TIMING\": \"unknown\", \"SPECIES\": \"ERBB4\", \"tot_muts\": 1}, {\"SPECIES_TYPE\": \"FIEs\", \"DATA_SOURCE\": \"Tx\", \"TXP\": \"N\", \"CANCER_TYPE\": \"LUAD-LUSC\", \"OVERALL_TIMING\": \"late\", \"SPECIES\": \"FAP\", \"tot_muts\": 1}, {\"SPECIES_TYPE\": \"FIEs\", \"DATA_SOURCE\": \"Tx\", \"TXP\": \"N\", \"CANCER_TYPE\": \"LUAD-LUSC\", \"OVERALL_TIMING\": \"early\", \"SPECIES\": \"FBP1\", \"tot_muts\": 1}, {\"SPECIES_TYPE\": \"FIEs\", \"DATA_SOURCE\": \"Tx\", \"TXP\": \"N\", \"CANCER_TYPE\": \"LUAD-LUSC\", \"OVERALL_TIMING\": \"early\", \"SPECIES\": \"FBXW7\", \"tot_muts\": 1}, {\"SPECIES_TYPE\": \"FIEs\", \"DATA_SOURCE\": \"Tx\", \"TXP\": \"N\", \"CANCER_TYPE\": \"LUAD-LUSC\", \"OVERALL_TIMING\": \"unknown\", \"SPECIES\": \"FGFR3\", \"tot_muts\": 1}, {\"SPECIES_TYPE\": \"FIEs\", \"DATA_SOURCE\": \"Tx\", \"TXP\": \"N\", \"CANCER_TYPE\": \"LUAD-LUSC\", \"OVERALL_TIMING\": \"early\", \"SPECIES\": \"FGFR3\", \"tot_muts\": 1}, {\"SPECIES_TYPE\": \"FIEs\", \"DATA_SOURCE\": \"Tx\", \"TXP\": \"N\", \"CANCER_TYPE\": \"LUAD-LUSC\", \"OVERALL_TIMING\": \"unknown\", \"SPECIES\": \"FHL2\", \"tot_muts\": 1}, {\"SPECIES_TYPE\": \"FIEs\", \"DATA_SOURCE\": \"Tx\", \"TXP\": \"N\", \"CANCER_TYPE\": \"LUAD-LUSC\", \"OVERALL_TIMING\": \"late\", \"SPECIES\": \"FLII\", \"tot_muts\": 1}, {\"SPECIES_TYPE\": \"FIEs\", \"DATA_SOURCE\": \"Tx\", \"TXP\": \"N\", \"CANCER_TYPE\": \"LUAD-LUSC\", \"OVERALL_TIMING\": \"late\", \"SPECIES\": \"GAK\", \"tot_muts\": 1}, {\"SPECIES_TYPE\": \"FIEs\", \"DATA_SOURCE\": \"Tx\", \"TXP\": \"N\", \"CANCER_TYPE\": \"LUAD-LUSC\", \"OVERALL_TIMING\": \"unknown\", \"SPECIES\": \"GALNT6\", \"tot_muts\": 1}, {\"SPECIES_TYPE\": \"FIEs\", \"DATA_SOURCE\": \"Tx\", \"TXP\": \"N\", \"CANCER_TYPE\": \"LUAD-LUSC\", \"OVERALL_TIMING\": \"unknown\", \"SPECIES\": \"GCHFR\", \"tot_muts\": 1}, {\"SPECIES_TYPE\": \"FIEs\", \"DATA_SOURCE\": \"Tx\", \"TXP\": \"N\", \"CANCER_TYPE\": \"LUAD-LUSC\", \"OVERALL_TIMING\": \"late\", \"SPECIES\": \"GNA14\", \"tot_muts\": 1}, {\"SPECIES_TYPE\": \"FIEs\", \"DATA_SOURCE\": \"Tx\", \"TXP\": \"N\", \"CANCER_TYPE\": \"LUAD-LUSC\", \"OVERALL_TIMING\": \"unknown\", \"SPECIES\": \"GOT1\", \"tot_muts\": 1}, {\"SPECIES_TYPE\": \"FIEs\", \"DATA_SOURCE\": \"Tx\", \"TXP\": \"N\", \"CANCER_TYPE\": \"LUAD-LUSC\", \"OVERALL_TIMING\": \"late\", \"SPECIES\": \"GPI\", \"tot_muts\": 1}, {\"SPECIES_TYPE\": \"FIEs\", \"DATA_SOURCE\": \"Tx\", \"TXP\": \"N\", \"CANCER_TYPE\": \"LUAD-LUSC\", \"OVERALL_TIMING\": \"early\", \"SPECIES\": \"GPT2\", \"tot_muts\": 1}, {\"SPECIES_TYPE\": \"FIEs\", \"DATA_SOURCE\": \"Tx\", \"TXP\": \"N\", \"CANCER_TYPE\": \"LUAD-LUSC\", \"OVERALL_TIMING\": \"unknown\", \"SPECIES\": \"GRB7\", \"tot_muts\": 1}, {\"SPECIES_TYPE\": \"FIEs\", \"DATA_SOURCE\": \"Tx\", \"TXP\": \"N\", \"CANCER_TYPE\": \"LUAD-LUSC\", \"OVERALL_TIMING\": \"late\", \"SPECIES\": \"HIST1H2BC\", \"tot_muts\": 1}, {\"SPECIES_TYPE\": \"FIEs\", \"DATA_SOURCE\": \"Tx\", \"TXP\": \"N\", \"CANCER_TYPE\": \"LUAD-LUSC\", \"OVERALL_TIMING\": \"unknown\", \"SPECIES\": \"HIST1H2BC\", \"tot_muts\": 1}, {\"SPECIES_TYPE\": \"FIEs\", \"DATA_SOURCE\": \"Tx\", \"TXP\": \"N\", \"CANCER_TYPE\": \"LUAD-LUSC\", \"OVERALL_TIMING\": \"early\", \"SPECIES\": \"HIST1H2BH\", \"tot_muts\": 1}, {\"SPECIES_TYPE\": \"FIEs\", \"DATA_SOURCE\": \"Tx\", \"TXP\": \"N\", \"CANCER_TYPE\": \"LUAD-LUSC\", \"OVERALL_TIMING\": \"late\", \"SPECIES\": \"HIST1H2BH\", \"tot_muts\": 1}, {\"SPECIES_TYPE\": \"FIEs\", \"DATA_SOURCE\": \"Tx\", \"TXP\": \"N\", \"CANCER_TYPE\": \"LUAD-LUSC\", \"OVERALL_TIMING\": \"late\", \"SPECIES\": \"HIST1H3I\", \"tot_muts\": 1}, {\"SPECIES_TYPE\": \"FIEs\", \"DATA_SOURCE\": \"Tx\", \"TXP\": \"N\", \"CANCER_TYPE\": \"LUAD-LUSC\", \"OVERALL_TIMING\": \"unknown\", \"SPECIES\": \"HIST1H3J\", \"tot_muts\": 1}, {\"SPECIES_TYPE\": \"FIEs\", \"DATA_SOURCE\": \"Tx\", \"TXP\": \"N\", \"CANCER_TYPE\": \"LUAD-LUSC\", \"OVERALL_TIMING\": \"early\", \"SPECIES\": \"HIST3H2BB\", \"tot_muts\": 1}, {\"SPECIES_TYPE\": \"FIEs\", \"DATA_SOURCE\": \"Tx\", \"TXP\": \"N\", \"CANCER_TYPE\": \"LUAD-LUSC\", \"OVERALL_TIMING\": \"early\", \"SPECIES\": \"HMBS\", \"tot_muts\": 1}, {\"SPECIES_TYPE\": \"FIEs\", \"DATA_SOURCE\": \"Tx\", \"TXP\": \"N\", \"CANCER_TYPE\": \"LUAD-LUSC\", \"OVERALL_TIMING\": \"early\", \"SPECIES\": \"IDH1\", \"tot_muts\": 1}, {\"SPECIES_TYPE\": \"FIEs\", \"DATA_SOURCE\": \"Tx\", \"TXP\": \"N\", \"CANCER_TYPE\": \"LUAD-LUSC\", \"OVERALL_TIMING\": \"early\", \"SPECIES\": \"INO80\", \"tot_muts\": 1}, {\"SPECIES_TYPE\": \"FIEs\", \"DATA_SOURCE\": \"Tx\", \"TXP\": \"N\", \"CANCER_TYPE\": \"LUAD-LUSC\", \"OVERALL_TIMING\": \"late\", \"SPECIES\": \"INO80\", \"tot_muts\": 1}, {\"SPECIES_TYPE\": \"FIEs\", \"DATA_SOURCE\": \"Tx\", \"TXP\": \"N\", \"CANCER_TYPE\": \"LUAD-LUSC\", \"OVERALL_TIMING\": \"unknown\", \"SPECIES\": \"INSR\", \"tot_muts\": 1}, {\"SPECIES_TYPE\": \"FIEs\", \"DATA_SOURCE\": \"Tx\", \"TXP\": \"N\", \"CANCER_TYPE\": \"LUAD-LUSC\", \"OVERALL_TIMING\": \"late\", \"SPECIES\": \"ITGAX\", \"tot_muts\": 1}, {\"SPECIES_TYPE\": \"FIEs\", \"DATA_SOURCE\": \"Tx\", \"TXP\": \"N\", \"CANCER_TYPE\": \"LUAD-LUSC\", \"OVERALL_TIMING\": \"unknown\", \"SPECIES\": \"KCNC4\", \"tot_muts\": 1}, {\"SPECIES_TYPE\": \"FIEs\", \"DATA_SOURCE\": \"Tx\", \"TXP\": \"N\", \"CANCER_TYPE\": \"LUAD-LUSC\", \"OVERALL_TIMING\": \"late\", \"SPECIES\": \"KDELC1\", \"tot_muts\": 1}, {\"SPECIES_TYPE\": \"FIEs\", \"DATA_SOURCE\": \"Tx\", \"TXP\": \"N\", \"CANCER_TYPE\": \"LUAD-LUSC\", \"OVERALL_TIMING\": \"unknown\", \"SPECIES\": \"LCTL\", \"tot_muts\": 1}, {\"SPECIES_TYPE\": \"FIEs\", \"DATA_SOURCE\": \"Tx\", \"TXP\": \"N\", \"CANCER_TYPE\": \"LUAD-LUSC\", \"OVERALL_TIMING\": \"unknown\", \"SPECIES\": \"LTF\", \"tot_muts\": 1}, {\"SPECIES_TYPE\": \"FIEs\", \"DATA_SOURCE\": \"Tx\", \"TXP\": \"N\", \"CANCER_TYPE\": \"LUAD-LUSC\", \"OVERALL_TIMING\": \"unknown\", \"SPECIES\": \"MAD2L1\", \"tot_muts\": 1}, {\"SPECIES_TYPE\": \"FIEs\", \"DATA_SOURCE\": \"Tx\", \"TXP\": \"N\", \"CANCER_TYPE\": \"LUAD-LUSC\", \"OVERALL_TIMING\": \"unknown\", \"SPECIES\": \"MAGI3\", \"tot_muts\": 1}, {\"SPECIES_TYPE\": \"FIEs\", \"DATA_SOURCE\": \"Tx\", \"TXP\": \"N\", \"CANCER_TYPE\": \"LUAD-LUSC\", \"OVERALL_TIMING\": \"unknown\", \"SPECIES\": \"MAP2K1\", \"tot_muts\": 1}, {\"SPECIES_TYPE\": \"FIEs\", \"DATA_SOURCE\": \"Tx\", \"TXP\": \"N\", \"CANCER_TYPE\": \"LUAD-LUSC\", \"OVERALL_TIMING\": \"early\", \"SPECIES\": \"MAP2K1\", \"tot_muts\": 1}, {\"SPECIES_TYPE\": \"FIEs\", \"DATA_SOURCE\": \"Tx\", \"TXP\": \"N\", \"CANCER_TYPE\": \"LUAD-LUSC\", \"OVERALL_TIMING\": \"unknown\", \"SPECIES\": \"MAP2K3\", \"tot_muts\": 1}, {\"SPECIES_TYPE\": \"FIEs\", \"DATA_SOURCE\": \"Tx\", \"TXP\": \"N\", \"CANCER_TYPE\": \"LUAD-LUSC\", \"OVERALL_TIMING\": \"late\", \"SPECIES\": \"MLST8\", \"tot_muts\": 1}, {\"SPECIES_TYPE\": \"FIEs\", \"DATA_SOURCE\": \"Tx\", \"TXP\": \"N\", \"CANCER_TYPE\": \"LUAD-LUSC\", \"OVERALL_TIMING\": \"early\", \"SPECIES\": \"MME\", \"tot_muts\": 1}, {\"SPECIES_TYPE\": \"FIEs\", \"DATA_SOURCE\": \"Tx\", \"TXP\": \"N\", \"CANCER_TYPE\": \"LUAD-LUSC\", \"OVERALL_TIMING\": \"unknown\", \"SPECIES\": \"NFATC3\", \"tot_muts\": 1}, {\"SPECIES_TYPE\": \"FIEs\", \"DATA_SOURCE\": \"Tx\", \"TXP\": \"N\", \"CANCER_TYPE\": \"LUAD-LUSC\", \"OVERALL_TIMING\": \"unknown\", \"SPECIES\": \"NPM2\", \"tot_muts\": 1}, {\"SPECIES_TYPE\": \"FIEs\", \"DATA_SOURCE\": \"Tx\", \"TXP\": \"N\", \"CANCER_TYPE\": \"LUAD-LUSC\", \"OVERALL_TIMING\": \"unknown\", \"SPECIES\": \"NR6A1\", \"tot_muts\": 1}, {\"SPECIES_TYPE\": \"FIEs\", \"DATA_SOURCE\": \"Tx\", \"TXP\": \"N\", \"CANCER_TYPE\": \"LUAD-LUSC\", \"OVERALL_TIMING\": \"early\", \"SPECIES\": \"NRAS\", \"tot_muts\": 1}, {\"SPECIES_TYPE\": \"FIEs\", \"DATA_SOURCE\": \"Tx\", \"TXP\": \"N\", \"CANCER_TYPE\": \"LUAD-LUSC\", \"OVERALL_TIMING\": \"unknown\", \"SPECIES\": \"NRAS\", \"tot_muts\": 1}, {\"SPECIES_TYPE\": \"FIEs\", \"DATA_SOURCE\": \"Tx\", \"TXP\": \"N\", \"CANCER_TYPE\": \"LUAD-LUSC\", \"OVERALL_TIMING\": \"late\", \"SPECIES\": \"PCDHA12\", \"tot_muts\": 1}, {\"SPECIES_TYPE\": \"FIEs\", \"DATA_SOURCE\": \"Tx\", \"TXP\": \"N\", \"CANCER_TYPE\": \"LUAD-LUSC\", \"OVERALL_TIMING\": \"unknown\", \"SPECIES\": \"PIK3CG\", \"tot_muts\": 1}, {\"SPECIES_TYPE\": \"FIEs\", \"DATA_SOURCE\": \"Tx\", \"TXP\": \"N\", \"CANCER_TYPE\": \"LUAD-LUSC\", \"OVERALL_TIMING\": \"unknown\", \"SPECIES\": \"PLA2G4A\", \"tot_muts\": 1}, {\"SPECIES_TYPE\": \"FIEs\", \"DATA_SOURCE\": \"Tx\", \"TXP\": \"N\", \"CANCER_TYPE\": \"LUAD-LUSC\", \"OVERALL_TIMING\": \"late\", \"SPECIES\": \"POLK\", \"tot_muts\": 1}, {\"SPECIES_TYPE\": \"FIEs\", \"DATA_SOURCE\": \"Tx\", \"TXP\": \"N\", \"CANCER_TYPE\": \"LUAD-LUSC\", \"OVERALL_TIMING\": \"late\", \"SPECIES\": \"PRDX3\", \"tot_muts\": 1}, {\"SPECIES_TYPE\": \"FIEs\", \"DATA_SOURCE\": \"Tx\", \"TXP\": \"N\", \"CANCER_TYPE\": \"LUAD-LUSC\", \"OVERALL_TIMING\": \"early\", \"SPECIES\": \"PSPH\", \"tot_muts\": 1}, {\"SPECIES_TYPE\": \"FIEs\", \"DATA_SOURCE\": \"Tx\", \"TXP\": \"N\", \"CANCER_TYPE\": \"LUAD-LUSC\", \"OVERALL_TIMING\": \"late\", \"SPECIES\": \"PTEN\", \"tot_muts\": 1}, {\"SPECIES_TYPE\": \"FIEs\", \"DATA_SOURCE\": \"Tx\", \"TXP\": \"N\", \"CANCER_TYPE\": \"LUAD-LUSC\", \"OVERALL_TIMING\": \"unknown\", \"SPECIES\": \"PTEN\", \"tot_muts\": 1}, {\"SPECIES_TYPE\": \"FIEs\", \"DATA_SOURCE\": \"Tx\", \"TXP\": \"N\", \"CANCER_TYPE\": \"LUAD-LUSC\", \"OVERALL_TIMING\": \"unknown\", \"SPECIES\": \"PTPN11\", \"tot_muts\": 1}, {\"SPECIES_TYPE\": \"FIEs\", \"DATA_SOURCE\": \"Tx\", \"TXP\": \"N\", \"CANCER_TYPE\": \"LUAD-LUSC\", \"OVERALL_TIMING\": \"unknown\", \"SPECIES\": \"PTPRD\", \"tot_muts\": 1}, {\"SPECIES_TYPE\": \"FIEs\", \"DATA_SOURCE\": \"Tx\", \"TXP\": \"N\", \"CANCER_TYPE\": \"LUAD-LUSC\", \"OVERALL_TIMING\": \"early\", \"SPECIES\": \"PTPRD\", \"tot_muts\": 1}, {\"SPECIES_TYPE\": \"FIEs\", \"DATA_SOURCE\": \"Tx\", \"TXP\": \"N\", \"CANCER_TYPE\": \"LUAD-LUSC\", \"OVERALL_TIMING\": \"late\", \"SPECIES\": \"PTPRZ1\", \"tot_muts\": 1}, {\"SPECIES_TYPE\": \"FIEs\", \"DATA_SOURCE\": \"Tx\", \"TXP\": \"N\", \"CANCER_TYPE\": \"LUAD-LUSC\", \"OVERALL_TIMING\": \"unknown\", \"SPECIES\": \"RAB17\", \"tot_muts\": 1}, {\"SPECIES_TYPE\": \"FIEs\", \"DATA_SOURCE\": \"Tx\", \"TXP\": \"N\", \"CANCER_TYPE\": \"LUAD-LUSC\", \"OVERALL_TIMING\": \"unknown\", \"SPECIES\": \"RAB37\", \"tot_muts\": 1}, {\"SPECIES_TYPE\": \"FIEs\", \"DATA_SOURCE\": \"Tx\", \"TXP\": \"N\", \"CANCER_TYPE\": \"LUAD-LUSC\", \"OVERALL_TIMING\": \"late\", \"SPECIES\": \"RAC2\", \"tot_muts\": 1}, {\"SPECIES_TYPE\": \"FIEs\", \"DATA_SOURCE\": \"Tx\", \"TXP\": \"N\", \"CANCER_TYPE\": \"LUAD-LUSC\", \"OVERALL_TIMING\": \"early\", \"SPECIES\": \"RASGRP2\", \"tot_muts\": 1}, {\"SPECIES_TYPE\": \"FIEs\", \"DATA_SOURCE\": \"Tx\", \"TXP\": \"N\", \"CANCER_TYPE\": \"LUAD-LUSC\", \"OVERALL_TIMING\": \"early\", \"SPECIES\": \"RHPN1\", \"tot_muts\": 1}, {\"SPECIES_TYPE\": \"FIEs\", \"DATA_SOURCE\": \"Tx\", \"TXP\": \"N\", \"CANCER_TYPE\": \"LUAD-LUSC\", \"OVERALL_TIMING\": \"late\", \"SPECIES\": \"RIT1\", \"tot_muts\": 1}, {\"SPECIES_TYPE\": \"FIEs\", \"DATA_SOURCE\": \"Tx\", \"TXP\": \"N\", \"CANCER_TYPE\": \"LUAD-LUSC\", \"OVERALL_TIMING\": \"early\", \"SPECIES\": \"RIT1\", \"tot_muts\": 1}, {\"SPECIES_TYPE\": \"FIEs\", \"DATA_SOURCE\": \"Tx\", \"TXP\": \"N\", \"CANCER_TYPE\": \"LUAD-LUSC\", \"OVERALL_TIMING\": \"unknown\", \"SPECIES\": \"RIT1\", \"tot_muts\": 1}, {\"SPECIES_TYPE\": \"FIEs\", \"DATA_SOURCE\": \"Tx\", \"TXP\": \"N\", \"CANCER_TYPE\": \"LUAD-LUSC\", \"OVERALL_TIMING\": \"late\", \"SPECIES\": \"RPL18\", \"tot_muts\": 1}, {\"SPECIES_TYPE\": \"FIEs\", \"DATA_SOURCE\": \"Tx\", \"TXP\": \"N\", \"CANCER_TYPE\": \"LUAD-LUSC\", \"OVERALL_TIMING\": \"early\", \"SPECIES\": \"RRAS2\", \"tot_muts\": 1}, {\"SPECIES_TYPE\": \"FIEs\", \"DATA_SOURCE\": \"Tx\", \"TXP\": \"N\", \"CANCER_TYPE\": \"LUAD-LUSC\", \"OVERALL_TIMING\": \"early\", \"SPECIES\": \"SCP2\", \"tot_muts\": 1}, {\"SPECIES_TYPE\": \"FIEs\", \"DATA_SOURCE\": \"Tx\", \"TXP\": \"N\", \"CANCER_TYPE\": \"LUAD-LUSC\", \"OVERALL_TIMING\": \"late\", \"SPECIES\": \"SERPINB2\", \"tot_muts\": 1}, {\"SPECIES_TYPE\": \"FIEs\", \"DATA_SOURCE\": \"Tx\", \"TXP\": \"N\", \"CANCER_TYPE\": \"LUAD-LUSC\", \"OVERALL_TIMING\": \"late\", \"SPECIES\": \"SLC2A3\", \"tot_muts\": 1}, {\"SPECIES_TYPE\": \"FIEs\", \"DATA_SOURCE\": \"Tx\", \"TXP\": \"N\", \"CANCER_TYPE\": \"LUAD-LUSC\", \"OVERALL_TIMING\": \"early\", \"SPECIES\": \"SMARCA2\", \"tot_muts\": 1}, {\"SPECIES_TYPE\": \"FIEs\", \"DATA_SOURCE\": \"Tx\", \"TXP\": \"N\", \"CANCER_TYPE\": \"LUAD-LUSC\", \"OVERALL_TIMING\": \"early\", \"SPECIES\": \"SOS1\", \"tot_muts\": 1}, {\"SPECIES_TYPE\": \"FIEs\", \"DATA_SOURCE\": \"Tx\", \"TXP\": \"N\", \"CANCER_TYPE\": \"LUAD-LUSC\", \"OVERALL_TIMING\": \"late\", \"SPECIES\": \"SOX11\", \"tot_muts\": 1}, {\"SPECIES_TYPE\": \"FIEs\", \"DATA_SOURCE\": \"Tx\", \"TXP\": \"N\", \"CANCER_TYPE\": \"LUAD-LUSC\", \"OVERALL_TIMING\": \"unknown\", \"SPECIES\": \"STK11\", \"tot_muts\": 1}, {\"SPECIES_TYPE\": \"FIEs\", \"DATA_SOURCE\": \"Tx\", \"TXP\": \"N\", \"CANCER_TYPE\": \"LUAD-LUSC\", \"OVERALL_TIMING\": \"unknown\", \"SPECIES\": \"TALDO1\", \"tot_muts\": 1}, {\"SPECIES_TYPE\": \"FIEs\", \"DATA_SOURCE\": \"Tx\", \"TXP\": \"N\", \"CANCER_TYPE\": \"LUAD-LUSC\", \"OVERALL_TIMING\": \"unknown\", \"SPECIES\": \"TDP1\", \"tot_muts\": 1}, {\"SPECIES_TYPE\": \"FIEs\", \"DATA_SOURCE\": \"Tx\", \"TXP\": \"N\", \"CANCER_TYPE\": \"LUAD-LUSC\", \"OVERALL_TIMING\": \"early\", \"SPECIES\": \"TENC1\", \"tot_muts\": 1}, {\"SPECIES_TYPE\": \"FIEs\", \"DATA_SOURCE\": \"Tx\", \"TXP\": \"N\", \"CANCER_TYPE\": \"LUAD-LUSC\", \"OVERALL_TIMING\": \"late\", \"SPECIES\": \"TGFBR2\", \"tot_muts\": 1}, {\"SPECIES_TYPE\": \"FIEs\", \"DATA_SOURCE\": \"Tx\", \"TXP\": \"N\", \"CANCER_TYPE\": \"LUAD-LUSC\", \"OVERALL_TIMING\": \"late\", \"SPECIES\": \"TNS3\", \"tot_muts\": 1}, {\"SPECIES_TYPE\": \"FIEs\", \"DATA_SOURCE\": \"Tx\", \"TXP\": \"N\", \"CANCER_TYPE\": \"LUAD-LUSC\", \"OVERALL_TIMING\": \"early\", \"SPECIES\": \"TOX\", \"tot_muts\": 1}, {\"SPECIES_TYPE\": \"FIEs\", \"DATA_SOURCE\": \"Tx\", \"TXP\": \"N\", \"CANCER_TYPE\": \"LUAD-LUSC\", \"OVERALL_TIMING\": \"late\", \"SPECIES\": \"TP53\", \"tot_muts\": 1}, {\"SPECIES_TYPE\": \"FIEs\", \"DATA_SOURCE\": \"Tx\", \"TXP\": \"N\", \"CANCER_TYPE\": \"LUAD-LUSC\", \"OVERALL_TIMING\": \"early\", \"SPECIES\": \"TP63\", \"tot_muts\": 1}, {\"SPECIES_TYPE\": \"FIEs\", \"DATA_SOURCE\": \"Tx\", \"TXP\": \"N\", \"CANCER_TYPE\": \"LUAD-LUSC\", \"OVERALL_TIMING\": \"late\", \"SPECIES\": \"TUBAL3\", \"tot_muts\": 1}, {\"SPECIES_TYPE\": \"FIEs\", \"DATA_SOURCE\": \"Tx\", \"TXP\": \"N\", \"CANCER_TYPE\": \"LUAD-LUSC\", \"OVERALL_TIMING\": \"late\", \"SPECIES\": \"XYLB\", \"tot_muts\": 1}, {\"SPECIES_TYPE\": \"FIEs\", \"DATA_SOURCE\": \"Tx\", \"TXP\": \"N\", \"CANCER_TYPE\": \"LUAD-LUSC\", \"OVERALL_TIMING\": \"late\", \"SPECIES\": \"ZAP70\", \"tot_muts\": 1}, {\"SPECIES_TYPE\": \"FIEs\", \"DATA_SOURCE\": \"Tx\", \"TXP\": \"N\", \"CANCER_TYPE\": \"LUAD-LUSC\", \"OVERALL_TIMING\": \"unknown\", \"SPECIES\": \"CDKN2A\", \"tot_muts\": 2}, {\"SPECIES_TYPE\": \"FIEs\", \"DATA_SOURCE\": \"Tx\", \"TXP\": \"N\", \"CANCER_TYPE\": \"LUAD-LUSC\", \"OVERALL_TIMING\": \"unknown\", \"SPECIES\": \"HIST1H3I\", \"tot_muts\": 2}, {\"SPECIES_TYPE\": \"FIEs\", \"DATA_SOURCE\": \"Tx\", \"TXP\": \"N\", \"CANCER_TYPE\": \"LUAD-LUSC\", \"OVERALL_TIMING\": \"early\", \"SPECIES\": \"PTEN\", \"tot_muts\": 2}, {\"SPECIES_TYPE\": \"FIEs\", \"DATA_SOURCE\": \"Tx\", \"TXP\": \"N\", \"CANCER_TYPE\": \"LUAD-LUSC\", \"OVERALL_TIMING\": \"early\", \"SPECIES\": \"PTPRT\", \"tot_muts\": 2}, {\"SPECIES_TYPE\": \"FIEs\", \"DATA_SOURCE\": \"Tx\", \"TXP\": \"N\", \"CANCER_TYPE\": \"LUAD-LUSC\", \"OVERALL_TIMING\": \"early\", \"SPECIES\": \"SMARCA4\", \"tot_muts\": 2}, {\"SPECIES_TYPE\": \"FIEs\", \"DATA_SOURCE\": \"Tx\", \"TXP\": \"N\", \"CANCER_TYPE\": \"LUAD-LUSC\", \"OVERALL_TIMING\": \"late\", \"SPECIES\": \"SMARCA4\", \"tot_muts\": 2}, {\"SPECIES_TYPE\": \"FIEs\", \"DATA_SOURCE\": \"Tx\", \"TXP\": \"N\", \"CANCER_TYPE\": \"LUAD-LUSC\", \"OVERALL_TIMING\": \"unknown\", \"SPECIES\": \"BRAF\", \"tot_muts\": 3}, {\"SPECIES_TYPE\": \"FIEs\", \"DATA_SOURCE\": \"Tx\", \"TXP\": \"N\", \"CANCER_TYPE\": \"LUAD-LUSC\", \"OVERALL_TIMING\": \"unknown\", \"SPECIES\": \"SMARCA4\", \"tot_muts\": 3}, {\"SPECIES_TYPE\": \"FIEs\", \"DATA_SOURCE\": \"Tx\", \"TXP\": \"N\", \"CANCER_TYPE\": \"LUAD-LUSC\", \"OVERALL_TIMING\": \"unknown\", \"SPECIES\": \"SMAD4\", \"tot_muts\": 4}, {\"SPECIES_TYPE\": \"FIEs\", \"DATA_SOURCE\": \"Tx\", \"TXP\": \"N\", \"CANCER_TYPE\": \"LUAD-LUSC\", \"OVERALL_TIMING\": \"early\", \"SPECIES\": \"STK11\", \"tot_muts\": 4}, {\"SPECIES_TYPE\": \"FIEs\", \"DATA_SOURCE\": \"Tx\", \"TXP\": \"N\", \"CANCER_TYPE\": \"LUAD-LUSC\", \"OVERALL_TIMING\": \"early\", \"SPECIES\": \"BRAF\", \"tot_muts\": 5}, {\"SPECIES_TYPE\": \"FIEs\", \"DATA_SOURCE\": \"Tx\", \"TXP\": \"N\", \"CANCER_TYPE\": \"LUAD-LUSC\", \"OVERALL_TIMING\": \"unknown\", \"SPECIES\": \"PIK3CA\", \"tot_muts\": 7}, {\"SPECIES_TYPE\": \"FIEs\", \"DATA_SOURCE\": \"Tx\", \"TXP\": \"N\", \"CANCER_TYPE\": \"LUAD-LUSC\", \"OVERALL_TIMING\": \"late\", \"SPECIES\": \"PIK3CA\", \"tot_muts\": 9}, {\"SPECIES_TYPE\": \"FIEs\", \"DATA_SOURCE\": \"Tx\", \"TXP\": \"N\", \"CANCER_TYPE\": \"LUAD-LUSC\", \"OVERALL_TIMING\": \"early\", \"SPECIES\": \"CDKN2A\", \"tot_muts\": 10}, {\"SPECIES_TYPE\": \"FIEs\", \"DATA_SOURCE\": \"Tx\", \"TXP\": \"N\", \"CANCER_TYPE\": \"LUAD-LUSC\", \"OVERALL_TIMING\": \"early\", \"SPECIES\": \"EGFR\", \"tot_muts\": 10}, {\"SPECIES_TYPE\": \"FIEs\", \"DATA_SOURCE\": \"Tx\", \"TXP\": \"N\", \"CANCER_TYPE\": \"LUAD-LUSC\", \"OVERALL_TIMING\": \"late\", \"SPECIES\": \"KRAS\", \"tot_muts\": 11}, {\"SPECIES_TYPE\": \"FIEs\", \"DATA_SOURCE\": \"Tx\", \"TXP\": \"N\", \"CANCER_TYPE\": \"LUAD-LUSC\", \"OVERALL_TIMING\": \"early\", \"SPECIES\": \"PIK3CA\", \"tot_muts\": 12}, {\"SPECIES_TYPE\": \"FIEs\", \"DATA_SOURCE\": \"Tx\", \"TXP\": \"N\", \"CANCER_TYPE\": \"LUAD-LUSC\", \"OVERALL_TIMING\": \"unknown\", \"SPECIES\": \"TP53\", \"tot_muts\": 14}, {\"SPECIES_TYPE\": \"FIEs\", \"DATA_SOURCE\": \"Tx\", \"TXP\": \"N\", \"CANCER_TYPE\": \"LUAD-LUSC\", \"OVERALL_TIMING\": \"unknown\", \"SPECIES\": \"KRAS\", \"tot_muts\": 25}, {\"SPECIES_TYPE\": \"FIEs\", \"DATA_SOURCE\": \"Tx\", \"TXP\": \"N\", \"CANCER_TYPE\": \"LUAD-LUSC\", \"OVERALL_TIMING\": \"early\", \"SPECIES\": \"KRAS\", \"tot_muts\": 54}, {\"SPECIES_TYPE\": \"FIEs\", \"DATA_SOURCE\": \"Tx\", \"TXP\": \"N\", \"CANCER_TYPE\": \"LUAD-LUSC\", \"OVERALL_TIMING\": \"early\", \"SPECIES\": \"TP53\", \"tot_muts\": 59}]}}, {\"mode\": \"vega-lite\"});\n",
       "</script>"
      ],
      "text/plain": [
       "alt.Chart(...)"
      ]
     },
     "execution_count": 6,
     "metadata": {},
     "output_type": "execute_result"
    }
   ],
   "source": [
    "# alt.Chart(dt_plot).mark_bar(size=10).encode(\n",
    "chart_long = alt.Chart(dt_plot).mark_bar().encode(\n",
    "    alt.X('SPECIES', axis=alt.Axis(title='Gene'), sort=alt.SortField(field='tot_muts', order='descending') ),\n",
    "    alt.Y('tot_muts', axis=alt.Axis(title='Num. FIEs') ) ,\n",
    "    color=alt.Color('OVERALL_TIMING', scale=alt.Scale(domain=['early','late','unknown'], range=['#7FC45EFF','#912A58FF','grey'])),\n",
    "    order=alt.Order('OVERALL_TIMING', sort='ascending')     # y-order of the bar colouring \n",
    ").properties(height=450).configure_axis(\n",
    "    labelFontSize=20,\n",
    "    titleFontSize=20\n",
    ")\n",
    "\n",
    "# see plot!\n",
    "chart_long"
   ]
  },
  {
   "cell_type": "code",
   "execution_count": 7,
   "metadata": {},
   "outputs": [],
   "source": [
    "# use vl-convert - see notes top of script\n",
    "# chart_long.save(fig_name)\n",
    "chart_long.save( fig_name, engine=\"vl-convert\" )"
   ]
  }
 ],
 "metadata": {
  "kernelspec": {
   "display_name": "Python 3.10.5 64-bit",
   "language": "python",
   "name": "python3"
  },
  "language_info": {
   "codemirror_mode": {
    "name": "ipython",
    "version": 3
   },
   "file_extension": ".py",
   "mimetype": "text/x-python",
   "name": "python",
   "nbconvert_exporter": "python",
   "pygments_lexer": "ipython3",
   "version": "3.10.5"
  },
  "vscode": {
   "interpreter": {
    "hash": "aee8b7b246df8f9039afb4144a1f6fd8d2ca17a180786b69acc140d282b71a49"
   }
  }
 },
 "nbformat": 4,
 "nbformat_minor": 4
}
