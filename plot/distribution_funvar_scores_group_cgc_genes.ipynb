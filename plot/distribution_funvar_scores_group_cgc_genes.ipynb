{
 "cells": [
  {
   "attachments": {},
   "cell_type": "markdown",
   "metadata": {},
   "source": [
    "# FunVar scores and CGC genes for TCGA pancancer \n",
    "## neofun v3.1 / FIE v090\n",
    "### 17 12 2022 updated for v3.1 stats using _yj13\n",
    "\n",
    "### nfe_plot8_CGC_distributions\n",
    "\n",
    "### See:\n",
    "`neofun_paper_stat_functions.R`\n",
    "\n",
    "### Data\n",
    "`Dropbox/bioinf/neofun/paper/script/v3.1/neofun_v3.1_paper_counts_yj.sql #  §13`\n",
    "\n",
    "`Dropbox/bioinf/neofun/paper/calc/_yj13/`\n",
    "\n",
    "### based on:\n",
    "`Dropbox/bioinf/neofun/analysis/NFE/enrichment (re: v2)`"
   ]
  },
  {
   "cell_type": "code",
   "execution_count": 1,
   "metadata": {},
   "outputs": [],
   "source": [
    "# import pandas\n",
    "import pandas as pd\n",
    "# import matplotlib\n",
    "import matplotlib.pyplot as plt\n",
    "# import seaborn\n",
    "#import seaborn as sns\n",
    "#Altair\n",
    "import altair as alt\n",
    "# stats\n",
    "from scipy import stats\n",
    "import statistics\n",
    "# plots inline\n",
    "%matplotlib inline"
   ]
  },
  {
   "cell_type": "code",
   "execution_count": 2,
   "metadata": {},
   "outputs": [
    {
     "data": {
      "text/plain": [
       "'/Users/ash/git/funvar-tracerx/plot'"
      ]
     },
     "execution_count": 2,
     "metadata": {},
     "output_type": "execute_result"
    }
   ],
   "source": [
    "import os\n",
    "os.getcwd()"
   ]
  },
  {
   "cell_type": "code",
   "execution_count": 3,
   "metadata": {},
   "outputs": [],
   "source": [
    "# TCGA summary counts\n",
    "fies_by_score = '../data/_yj13_tcga_only_count_fies_by_score_and_cgc.tsv'\n",
    "df_scores  = pd.read_table( fies_by_score )"
   ]
  },
  {
   "cell_type": "code",
   "execution_count": 4,
   "metadata": {},
   "outputs": [
    {
     "data": {
      "text/html": [
       "<div>\n",
       "<style scoped>\n",
       "    .dataframe tbody tr th:only-of-type {\n",
       "        vertical-align: middle;\n",
       "    }\n",
       "\n",
       "    .dataframe tbody tr th {\n",
       "        vertical-align: top;\n",
       "    }\n",
       "\n",
       "    .dataframe thead th {\n",
       "        text-align: right;\n",
       "    }\n",
       "</style>\n",
       "<table border=\"1\" class=\"dataframe\">\n",
       "  <thead>\n",
       "    <tr style=\"text-align: right;\">\n",
       "      <th></th>\n",
       "      <th>DATA_SOURCE</th>\n",
       "      <th>TXP</th>\n",
       "      <th>SCORE_THRESHOLD</th>\n",
       "      <th>CGC</th>\n",
       "      <th>NFE_SCORE_D_MF_H</th>\n",
       "      <th>NUM_FIES</th>\n",
       "      <th>NUM_ROWS</th>\n",
       "    </tr>\n",
       "  </thead>\n",
       "  <tbody>\n",
       "    <tr>\n",
       "      <th>0</th>\n",
       "      <td>TCGA</td>\n",
       "      <td>N</td>\n",
       "      <td>ANY</td>\n",
       "      <td>N</td>\n",
       "      <td>1</td>\n",
       "      <td>1698</td>\n",
       "      <td>1698</td>\n",
       "    </tr>\n",
       "    <tr>\n",
       "      <th>1</th>\n",
       "      <td>TCGA</td>\n",
       "      <td>N</td>\n",
       "      <td>ANY</td>\n",
       "      <td>N</td>\n",
       "      <td>2</td>\n",
       "      <td>2757</td>\n",
       "      <td>2757</td>\n",
       "    </tr>\n",
       "    <tr>\n",
       "      <th>2</th>\n",
       "      <td>TCGA</td>\n",
       "      <td>N</td>\n",
       "      <td>ANY</td>\n",
       "      <td>N</td>\n",
       "      <td>3</td>\n",
       "      <td>2308</td>\n",
       "      <td>2308</td>\n",
       "    </tr>\n",
       "    <tr>\n",
       "      <th>3</th>\n",
       "      <td>TCGA</td>\n",
       "      <td>N</td>\n",
       "      <td>ANY</td>\n",
       "      <td>N</td>\n",
       "      <td>4</td>\n",
       "      <td>1480</td>\n",
       "      <td>1480</td>\n",
       "    </tr>\n",
       "    <tr>\n",
       "      <th>4</th>\n",
       "      <td>TCGA</td>\n",
       "      <td>N</td>\n",
       "      <td>ANY</td>\n",
       "      <td>N</td>\n",
       "      <td>5</td>\n",
       "      <td>608</td>\n",
       "      <td>608</td>\n",
       "    </tr>\n",
       "  </tbody>\n",
       "</table>\n",
       "</div>"
      ],
      "text/plain": [
       "  DATA_SOURCE TXP SCORE_THRESHOLD CGC  NFE_SCORE_D_MF_H  NUM_FIES  NUM_ROWS\n",
       "0        TCGA   N             ANY   N                 1      1698      1698\n",
       "1        TCGA   N             ANY   N                 2      2757      2757\n",
       "2        TCGA   N             ANY   N                 3      2308      2308\n",
       "3        TCGA   N             ANY   N                 4      1480      1480\n",
       "4        TCGA   N             ANY   N                 5       608       608"
      ]
     },
     "execution_count": 4,
     "metadata": {},
     "output_type": "execute_result"
    }
   ],
   "source": [
    "df_scores.head()"
   ]
  },
  {
   "cell_type": "code",
   "execution_count": 5,
   "metadata": {},
   "outputs": [
    {
     "data": {
      "text/html": [
       "\n",
       "<style>\n",
       "  #altair-viz-4a49b4ba15d648b9bfc78feba68d601e.vega-embed {\n",
       "    width: 100%;\n",
       "    display: flex;\n",
       "  }\n",
       "\n",
       "  #altair-viz-4a49b4ba15d648b9bfc78feba68d601e.vega-embed details,\n",
       "  #altair-viz-4a49b4ba15d648b9bfc78feba68d601e.vega-embed details summary {\n",
       "    position: relative;\n",
       "  }\n",
       "</style>\n",
       "<div id=\"altair-viz-4a49b4ba15d648b9bfc78feba68d601e\"></div>\n",
       "<script type=\"text/javascript\">\n",
       "  var VEGA_DEBUG = (typeof VEGA_DEBUG == \"undefined\") ? {} : VEGA_DEBUG;\n",
       "  (function(spec, embedOpt){\n",
       "    let outputDiv = document.currentScript.previousElementSibling;\n",
       "    if (outputDiv.id !== \"altair-viz-4a49b4ba15d648b9bfc78feba68d601e\") {\n",
       "      outputDiv = document.getElementById(\"altair-viz-4a49b4ba15d648b9bfc78feba68d601e\");\n",
       "    }\n",
       "    const paths = {\n",
       "      \"vega\": \"https://cdn.jsdelivr.net/npm/vega@5?noext\",\n",
       "      \"vega-lib\": \"https://cdn.jsdelivr.net/npm/vega-lib?noext\",\n",
       "      \"vega-lite\": \"https://cdn.jsdelivr.net/npm/vega-lite@5.15.1?noext\",\n",
       "      \"vega-embed\": \"https://cdn.jsdelivr.net/npm/vega-embed@6?noext\",\n",
       "    };\n",
       "\n",
       "    function maybeLoadScript(lib, version) {\n",
       "      var key = `${lib.replace(\"-\", \"\")}_version`;\n",
       "      return (VEGA_DEBUG[key] == version) ?\n",
       "        Promise.resolve(paths[lib]) :\n",
       "        new Promise(function(resolve, reject) {\n",
       "          var s = document.createElement('script');\n",
       "          document.getElementsByTagName(\"head\")[0].appendChild(s);\n",
       "          s.async = true;\n",
       "          s.onload = () => {\n",
       "            VEGA_DEBUG[key] = version;\n",
       "            return resolve(paths[lib]);\n",
       "          };\n",
       "          s.onerror = () => reject(`Error loading script: ${paths[lib]}`);\n",
       "          s.src = paths[lib];\n",
       "        });\n",
       "    }\n",
       "\n",
       "    function showError(err) {\n",
       "      outputDiv.innerHTML = `<div class=\"error\" style=\"color:red;\">${err}</div>`;\n",
       "      throw err;\n",
       "    }\n",
       "\n",
       "    function displayChart(vegaEmbed) {\n",
       "      vegaEmbed(outputDiv, spec, embedOpt)\n",
       "        .catch(err => showError(`Javascript Error: ${err.message}<br>This usually means there's a typo in your chart specification. See the javascript console for the full traceback.`));\n",
       "    }\n",
       "\n",
       "    if(typeof define === \"function\" && define.amd) {\n",
       "      requirejs.config({paths});\n",
       "      require([\"vega-embed\"], displayChart, err => showError(`Error loading script: ${err.message}`));\n",
       "    } else {\n",
       "      maybeLoadScript(\"vega\", \"5\")\n",
       "        .then(() => maybeLoadScript(\"vega-lite\", \"5.15.1\"))\n",
       "        .then(() => maybeLoadScript(\"vega-embed\", \"6\"))\n",
       "        .catch(showError)\n",
       "        .then(() => displayChart(vegaEmbed));\n",
       "    }\n",
       "  })({\"config\": {\"view\": {\"continuousWidth\": 300, \"continuousHeight\": 300}, \"axis\": {\"labelFontSize\": 15, \"titleFontSize\": 15}, \"header\": {\"labelColor\": \"grey\", \"labelFontSize\": 19, \"titleColor\": \"black\", \"titleFontSize\": 19}}, \"data\": {\"name\": \"data-19a8bc4e79cdcb1879c87665aca27cc4\"}, \"mark\": {\"type\": \"bar\", \"opacity\": 0.4}, \"encoding\": {\"color\": {\"field\": \"CGC\", \"legend\": {\"title\": \"CGC gene\"}, \"type\": \"nominal\"}, \"x\": {\"axis\": {\"title\": \"FIE score\"}, \"field\": \"NFE_SCORE_D_MF_H\", \"type\": \"ordinal\"}, \"y\": {\"axis\": {\"title\": \"Number of FIEs\"}, \"field\": \"NUM_FIES\", \"stack\": null, \"type\": \"quantitative\"}}, \"height\": 400, \"width\": 300, \"$schema\": \"https://vega.github.io/schema/vega-lite/v5.15.1.json\", \"datasets\": {\"data-19a8bc4e79cdcb1879c87665aca27cc4\": [{\"DATA_SOURCE\": \"TCGA\", \"TXP\": \"N\", \"SCORE_THRESHOLD\": \"ANY\", \"CGC\": \"N\", \"NFE_SCORE_D_MF_H\": 1, \"NUM_FIES\": 1698, \"NUM_ROWS\": 1698}, {\"DATA_SOURCE\": \"TCGA\", \"TXP\": \"N\", \"SCORE_THRESHOLD\": \"ANY\", \"CGC\": \"N\", \"NFE_SCORE_D_MF_H\": 2, \"NUM_FIES\": 2757, \"NUM_ROWS\": 2757}, {\"DATA_SOURCE\": \"TCGA\", \"TXP\": \"N\", \"SCORE_THRESHOLD\": \"ANY\", \"CGC\": \"N\", \"NFE_SCORE_D_MF_H\": 3, \"NUM_FIES\": 2308, \"NUM_ROWS\": 2308}, {\"DATA_SOURCE\": \"TCGA\", \"TXP\": \"N\", \"SCORE_THRESHOLD\": \"ANY\", \"CGC\": \"N\", \"NFE_SCORE_D_MF_H\": 4, \"NUM_FIES\": 1480, \"NUM_ROWS\": 1480}, {\"DATA_SOURCE\": \"TCGA\", \"TXP\": \"N\", \"SCORE_THRESHOLD\": \"ANY\", \"CGC\": \"N\", \"NFE_SCORE_D_MF_H\": 5, \"NUM_FIES\": 608, \"NUM_ROWS\": 608}, {\"DATA_SOURCE\": \"TCGA\", \"TXP\": \"N\", \"SCORE_THRESHOLD\": \"ANY\", \"CGC\": \"N\", \"NFE_SCORE_D_MF_H\": 6, \"NUM_FIES\": 154, \"NUM_ROWS\": 154}, {\"DATA_SOURCE\": \"TCGA\", \"TXP\": \"N\", \"SCORE_THRESHOLD\": \"ANY\", \"CGC\": \"N\", \"NFE_SCORE_D_MF_H\": 7, \"NUM_FIES\": 39, \"NUM_ROWS\": 39}, {\"DATA_SOURCE\": \"TCGA\", \"TXP\": \"N\", \"SCORE_THRESHOLD\": \"ANY\", \"CGC\": \"Y\", \"NFE_SCORE_D_MF_H\": 1, \"NUM_FIES\": 172, \"NUM_ROWS\": 172}, {\"DATA_SOURCE\": \"TCGA\", \"TXP\": \"N\", \"SCORE_THRESHOLD\": \"ANY\", \"CGC\": \"Y\", \"NFE_SCORE_D_MF_H\": 2, \"NUM_FIES\": 470, \"NUM_ROWS\": 470}, {\"DATA_SOURCE\": \"TCGA\", \"TXP\": \"N\", \"SCORE_THRESHOLD\": \"ANY\", \"CGC\": \"Y\", \"NFE_SCORE_D_MF_H\": 3, \"NUM_FIES\": 1113, \"NUM_ROWS\": 1113}, {\"DATA_SOURCE\": \"TCGA\", \"TXP\": \"N\", \"SCORE_THRESHOLD\": \"ANY\", \"CGC\": \"Y\", \"NFE_SCORE_D_MF_H\": 4, \"NUM_FIES\": 1043, \"NUM_ROWS\": 1043}, {\"DATA_SOURCE\": \"TCGA\", \"TXP\": \"N\", \"SCORE_THRESHOLD\": \"ANY\", \"CGC\": \"Y\", \"NFE_SCORE_D_MF_H\": 5, \"NUM_FIES\": 1618, \"NUM_ROWS\": 1618}, {\"DATA_SOURCE\": \"TCGA\", \"TXP\": \"N\", \"SCORE_THRESHOLD\": \"ANY\", \"CGC\": \"Y\", \"NFE_SCORE_D_MF_H\": 6, \"NUM_FIES\": 948, \"NUM_ROWS\": 948}, {\"DATA_SOURCE\": \"TCGA\", \"TXP\": \"N\", \"SCORE_THRESHOLD\": \"ANY\", \"CGC\": \"Y\", \"NFE_SCORE_D_MF_H\": 7, \"NUM_FIES\": 329, \"NUM_ROWS\": 329}, {\"DATA_SOURCE\": \"TCGA\", \"TXP\": \"N\", \"SCORE_THRESHOLD\": \"ANY\", \"CGC\": \"Y\", \"NFE_SCORE_D_MF_H\": 8, \"NUM_FIES\": 35, \"NUM_ROWS\": 35}]}}, {\"mode\": \"vega-lite\"});\n",
       "</script>"
      ],
      "text/plain": [
       "alt.Chart(...)"
      ]
     },
     "execution_count": 5,
     "metadata": {},
     "output_type": "execute_result"
    }
   ],
   "source": [
    "# FIE distribution CGC Y/N\n",
    "# TCGA pancancer\n",
    "# df_plot = df_scores[df_scores.data_type=='TCGA']\n",
    "# TxP\n",
    "df_plot = df_scores\n",
    "\n",
    "# All with cols\n",
    "base = alt.Chart(df_plot)\n",
    "\n",
    "chart = base.mark_bar(opacity = 0.4).encode(\n",
    "    alt.X('NFE_SCORE_D_MF_H:O', axis=alt.Axis( title='FIE score') ),\n",
    "    alt.Y('NUM_FIES:Q', stack=None, axis=alt.Axis( title='Number of FIEs') ),\n",
    "    alt.Color('CGC:N', legend=alt.Legend(title=\"CGC gene\"))\n",
    "    # alt.Column('data_type:N')\n",
    ").properties(\n",
    "    width=300,\n",
    "    height=400).configure_axis(\n",
    "    labelFontSize=15,\n",
    "    titleFontSize=15\n",
    ")\n",
    "\n",
    "chart.configure_header(\n",
    "    titleColor='black',\n",
    "    titleFontSize=19,\n",
    "    labelColor='grey',\n",
    "    labelFontSize=19)\n",
    "\n",
    "# chart"
   ]
  }
 ],
 "metadata": {
  "kernelspec": {
   "display_name": "Python 3.10.5 64-bit",
   "language": "python",
   "name": "python3"
  },
  "language_info": {
   "codemirror_mode": {
    "name": "ipython",
    "version": 3
   },
   "file_extension": ".py",
   "mimetype": "text/x-python",
   "name": "python",
   "nbconvert_exporter": "python",
   "pygments_lexer": "ipython3",
   "version": "3.10.5"
  },
  "orig_nbformat": 4,
  "vscode": {
   "interpreter": {
    "hash": "aee8b7b246df8f9039afb4144a1f6fd8d2ca17a180786b69acc140d282b71a49"
   }
  }
 },
 "nbformat": 4,
 "nbformat_minor": 2
}
